{
 "cells": [
  {
   "cell_type": "code",
   "execution_count": null,
   "metadata": {},
   "outputs": [],
   "source": [
    "import matplotlib.pyplot as plt\n",
    "import numpy as np\n",
    "import pandas as pd\n",
    "import seaborn as sns\n",
    "import tensorflow as tf\n"
   ]
  },
  {
   "cell_type": "code",
   "execution_count": null,
   "metadata": {},
   "outputs": [],
   "source": [
    "num_vectors = 1000\n",
    "num_clusters = 2\n",
    "num_steps = 100"
   ]
  },
  {
   "cell_type": "markdown",
   "metadata": {},
   "source": [
    "2つのガウス分布からサンプル点を生成"
   ]
  },
  {
   "cell_type": "code",
   "execution_count": null,
   "metadata": {},
   "outputs": [],
   "source": [
    "vector_values = []\n",
    "for i in range(num_vectors):\n",
    "  if np.random.random() > 0.5:\n",
    "    vector_values.append([np.random.normal(0.5, 0.6),\n",
    "                          np.random.normal(0.3, 0.9)])\n",
    "  else:\n",
    "    vector_values.append([np.random.normal(2.5, 0.4),\n",
    "                         np.random.normal(0.8, 0.5)])"
   ]
  },
  {
   "cell_type": "code",
   "execution_count": null,
   "metadata": {},
   "outputs": [],
   "source": [
    "df = pd.DataFrame({\"x\": [v[0] for v in vector_values], \n",
    "                   \"y\": [v[1] for v in vector_values]})\n",
    "sns.lmplot(\"x\", \"y\", data=df, fit_reg=False, size=7)\n",
    "plt.show()"
   ]
  },
  {
   "cell_type": "markdown",
   "metadata": {},
   "source": [
    "入力データを定数   \n",
    "重心を適当な点とする"
   ]
  },
  {
   "cell_type": "code",
   "execution_count": null,
   "metadata": {},
   "outputs": [],
   "source": [
    "vectors = tf.constant(vector_values)\n",
    "centroids = tf.Variable(tf.slice(tf.random_shuffle(vectors), \n",
    "                                 [0,0],[num_clusters,-1]))"
   ]
  },
  {
   "cell_type": "markdown",
   "metadata": {},
   "source": [
    "次元を整える？"
   ]
  },
  {
   "cell_type": "code",
   "execution_count": null,
   "metadata": {},
   "outputs": [],
   "source": [
    "expanded_vectors = tf.expand_dims(vectors, 0)\n",
    "expanded_centroids = tf.expand_dims(centroids, 1)\n",
    "\n",
    "print(expanded_vectors.get_shape())\n",
    "print(expanded_centroids.get_shape())"
   ]
  },
  {
   "cell_type": "code",
   "execution_count": null,
   "metadata": {},
   "outputs": [],
   "source": [
    "distances = tf.reduce_sum(\n",
    "  tf.square(tf.subtract(expanded_vectors, expanded_centroids)), 2)\n",
    "assignments = tf.argmin(distances, 0)"
   ]
  },
  {
   "cell_type": "code",
   "execution_count": null,
   "metadata": {},
   "outputs": [],
   "source": [
    "means = tf.stack([\n",
    "    tf.reduce_mean(\n",
    "        tf.boolean_mask(\n",
    "            vectors, tf.equal(assignments, c)\n",
    "        ), 0) \n",
    "    for c in range(num_clusters)])"
   ]
  },
  {
   "cell_type": "code",
   "execution_count": null,
   "metadata": {},
   "outputs": [],
   "source": [
    "update_centroids  = tf.assign(centroids, means)\n",
    "init_op = tf.global_variables_initializer()"
   ]
  },
  {
   "cell_type": "code",
   "execution_count": null,
   "metadata": {},
   "outputs": [],
   "source": [
    "with tf.Session() as sess:\n",
    "  sess.run(init_op)\n",
    "  for step in range(num_steps):\n",
    "    _, centroid_values, assignment_values = sess.run([update_centroids,centroids,assignments])\n",
    "  print(\"centroids\")\n",
    "  print(centroid_values)"
   ]
  },
  {
   "cell_type": "code",
   "execution_count": null,
   "metadata": {},
   "outputs": [],
   "source": [
    "data = {\"x\": [], \"y\": [], \"cluster\": []}\n",
    "for i in range(len(assignment_values)):\n",
    "  data[\"x\"].append(vector_values[i][0])\n",
    "  data[\"y\"].append(vector_values[i][1])\n",
    "  data[\"cluster\"].append(assignment_values[i])\n",
    "df = pd.DataFrame(data)\n",
    "sns.lmplot(\"x\", \"y\", data=df, \n",
    "           fit_reg=False, size=7, \n",
    "           hue=\"cluster\", legend=False)\n",
    "plt.show()"
   ]
  },
  {
   "cell_type": "markdown",
   "metadata": {},
   "source": [
    "https://gist.github.com/narphorium/d06b7ed234287e319f18 tensorflow1.0~対応に書き換え済み"
   ]
  }
 ],
 "metadata": {
  "kernelspec": {
   "display_name": "Python 3",
   "language": "python",
   "name": "python3"
  },
  "language_info": {
   "codemirror_mode": {
    "name": "ipython",
    "version": 3
   },
   "file_extension": ".py",
   "mimetype": "text/x-python",
   "name": "python",
   "nbconvert_exporter": "python",
   "pygments_lexer": "ipython3",
   "version": "3.6.5"
  }
 },
 "nbformat": 4,
 "nbformat_minor": 2
}
