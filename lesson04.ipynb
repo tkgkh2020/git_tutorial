{
 "cells": [
  {
   "cell_type": "markdown",
   "metadata": {
    "slideshow": {
     "slide_type": "slide"
    }
   },
   "source": [
    "## sin関数をフィッティングしてみる"
   ]
  },
  {
   "cell_type": "code",
   "execution_count": null,
   "metadata": {
    "slideshow": {
     "slide_type": "slide"
    }
   },
   "outputs": [],
   "source": [
    "%matplotlib inline\n",
    "import tensorflow as tf\n",
    "import numpy as np\n",
    "import random\n",
    "import matplotlib.pyplot as plt"
   ]
  },
  {
   "cell_type": "markdown",
   "metadata": {
    "slideshow": {
     "slide_type": "slide"
    }
   },
   "source": [
    "$sin (\\pi x)$にノイズを加えたデータを用意する"
   ]
  },
  {
   "cell_type": "code",
   "execution_count": null,
   "metadata": {},
   "outputs": [],
   "source": [
    "x_data = np.float32(np.random.rand(30)) # Random input\n",
    "y_data = np.sin(2*np.pi*x_data) + np.random.rand()\n",
    "plt.scatter(x_data, y_data)"
   ]
  },
  {
   "cell_type": "markdown",
   "metadata": {
    "slideshow": {
     "slide_type": "slide"
    }
   },
   "source": [
    "$y=w_1*x+w_2*x^2+w_3*x^3+b$のグラフを作る\n",
    "\n",
    "グラフ内で変数（パラメータ）を作るにはtf.Variable（）を使う   \n",
    "さらに，わかりやすいように変数にtf.name_scope()で名前をつける"
   ]
  },
  {
   "cell_type": "code",
   "execution_count": null,
   "metadata": {},
   "outputs": [],
   "source": [
    "dim = 3\n",
    "x = tf.placeholder(tf.float32, [None], 'x')\n",
    "y = tf.placeholder(tf.float32, [None], 'y')\n",
    "\n",
    "with tf.name_scope('b'):\n",
    "    b = tf.Variable(random.random())\n",
    "out = b\n",
    "w_list = []\n",
    "for i in range(1,dim+1):\n",
    "    with tf.name_scope('w'+str(i)):\n",
    "        w = tf.Variable(random.random())\n",
    "    w_list.append(w)\n",
    "    out = w*x**i+out"
   ]
  },
  {
   "cell_type": "markdown",
   "metadata": {},
   "source": [
    "グラフの設計時にループを使っても演算(推論，学習)時には完成したグラフで演算するので遅くならない"
   ]
  },
  {
   "cell_type": "markdown",
   "metadata": {
    "slideshow": {
     "slide_type": "slide"
    }
   },
   "source": [
    "損失関数を誤差の２乗   \n",
    "最適化アルゴリズムを最急降下法"
   ]
  },
  {
   "cell_type": "code",
   "execution_count": null,
   "metadata": {},
   "outputs": [],
   "source": [
    "with tf.name_scope('loss'):\n",
    "    loss = tf.reduce_mean(tf.square(out - y))\n",
    "with tf.name_scope('optimizer'):\n",
    "    optimizer = tf.train.GradientDescentOptimizer(0.5)\n",
    "    train = optimizer.minimize(loss)"
   ]
  },
  {
   "cell_type": "markdown",
   "metadata": {
    "slideshow": {
     "slide_type": "slide"
    }
   },
   "source": [
    "セッションを作って初期化"
   ]
  },
  {
   "cell_type": "code",
   "execution_count": null,
   "metadata": {},
   "outputs": [],
   "source": [
    "sess = tf.Session()\n",
    "init= tf.global_variables_initializer()\n",
    "sess.run(init)"
   ]
  },
  {
   "cell_type": "markdown",
   "metadata": {
    "slideshow": {
     "slide_type": "slide"
    }
   },
   "source": [
    "Tensorboard用にトラッキングを追加    \n",
    "今回は，損失関数の値とグラフを保存する"
   ]
  },
  {
   "cell_type": "code",
   "execution_count": null,
   "metadata": {},
   "outputs": [],
   "source": [
    "with tf.name_scope('summary'):\n",
    "    merged = tf.summary.scalar('loss', loss)\n",
    "    writer = tf.summary.FileWriter('logs',  graph=sess.graph)\n",
    "    i = 0"
   ]
  },
  {
   "cell_type": "markdown",
   "metadata": {
    "slideshow": {
     "slide_type": "slide"
    }
   },
   "source": [
    "トラッキングしながら学習"
   ]
  },
  {
   "cell_type": "code",
   "execution_count": null,
   "metadata": {},
   "outputs": [],
   "source": [
    "for step in range(0, 1000):\n",
    "    i+=1\n",
    "    _, summary = sess.run([train,merged], feed_dict={x:x_data,y:y_data})\n",
    "    writer.add_summary(summary, i)\n",
    "print(sess.run(loss, feed_dict={x:x_data,y:y_data}))\n",
    "plt.scatter(x_data, sess.run(out, feed_dict={x:x_data,y:y_data}))"
   ]
  },
  {
   "cell_type": "markdown",
   "metadata": {
    "slideshow": {
     "slide_type": "slide"
    }
   },
   "source": [
    "# tensorboardで学習の可視化\n",
    "tensorboardの起動   \n",
    "`$ tensorboard --logdir='logs'`  \n",
    "\n",
    "[http://127.0.0.1:6006/](http://127.0.0.1:6006/)からtensorboardにアクセス"
   ]
  },
  {
   "cell_type": "code",
   "execution_count": null,
   "metadata": {},
   "outputs": [],
   "source": []
  },
  {
   "cell_type": "code",
   "execution_count": null,
   "metadata": {},
   "outputs": [],
   "source": []
  },
  {
   "cell_type": "code",
   "execution_count": null,
   "metadata": {},
   "outputs": [],
   "source": []
  },
  {
   "cell_type": "code",
   "execution_count": null,
   "metadata": {},
   "outputs": [],
   "source": []
  },
  {
   "cell_type": "code",
   "execution_count": null,
   "metadata": {},
   "outputs": [],
   "source": []
  },
  {
   "cell_type": "code",
   "execution_count": null,
   "metadata": {},
   "outputs": [],
   "source": []
  }
 ],
 "metadata": {
  "celltoolbar": "Slideshow",
  "kernelspec": {
   "display_name": "Python 3",
   "language": "python",
   "name": "python3"
  },
  "language_info": {
   "codemirror_mode": {
    "name": "ipython",
    "version": 3
   },
   "file_extension": ".py",
   "mimetype": "text/x-python",
   "name": "python",
   "nbconvert_exporter": "python",
   "pygments_lexer": "ipython3",
   "version": "3.6.5"
  }
 },
 "nbformat": 4,
 "nbformat_minor": 2
}
