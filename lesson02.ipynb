{
 "cells": [
  {
   "cell_type": "markdown",
   "metadata": {},
   "source": [
    "# TensorFlowの前にGitの残り\n"
   ]
  },
  {
   "cell_type": "markdown",
   "metadata": {},
   "source": [
    "# ブランチを切ってみる\n",
    "まず，現在のブランチを確認します.  \n",
    "``$ git branch``   \n",
    "新しいブランチを作りましょう  \n",
    "``$ git branch tensorflow``   \n",
    "ブランチの移動    \n",
    "``$ git checkout tensorflow``   \n",
    "もう一度，ブランチを確認  \n",
    "``$ git branch``"
   ]
  },
  {
   "cell_type": "markdown",
   "metadata": {},
   "source": [
    "# ブランチを更新\n",
    "このファイル(lesson02.ipynb)をtensorflowブランチに追加する  \n",
    "lesson01を参考にコミットしてみてください.   \n",
    "また，もとのブランチに戻ってファイルを確認してみてください"
   ]
  },
  {
   "cell_type": "markdown",
   "metadata": {},
   "source": [
    "# マージ\n",
    "枝分かれしたブランチをまとめます．     \n",
    "まず，**ベースとしたいブランチ**（master）に移動します．   \n",
    "まとめるブランチ(tensorflow)を指定してマージする   \n",
    "``$ git merge tensorflow``   \n",
    "  \n",
    "ファイルを確認してください．\n"
   ]
  },
  {
   "cell_type": "markdown",
   "metadata": {},
   "source": [
    "# まとめ\n",
    "\n",
    "+ ``$ git branch``   \n",
    "    存在するブランチを確認\n",
    "+ ``$ git branch [ブランチ名]``   \n",
    "    ブランチ[ブランチ名]を作る\n",
    "+ ``$ git checkout [ブランチ名]``  \n",
    "    [ブランチ名]に切り替える\n",
    "+  ``$ git merge [ブランチ名]``"
   ]
  },
  {
   "cell_type": "markdown",
   "metadata": {},
   "source": [
    "# 便利なコマンド（おまけ）\n",
    "+ `` git diff``  \n",
    "    直前のコミットとの変更箇所を確認する  \n",
    "+ ``git gc``  \n",
    "    リポジトリを最適化する  \n",
    "+ ``git reset``  \n",
    "    直前のコミットを取り消す  \n",
    "など..."
   ]
  },
  {
   "cell_type": "markdown",
   "metadata": {},
   "source": [
    "# もっと使いやすくするには\n",
    "+ [GitHubにSSH接続できるようにする-Qiita](https://qiita.com/shimisunet/items/1b9568ff62a1550a931b)    \n",
    "    ssh接続だと学内でもプロキシ設定しなくても良くなる\n",
    "+ GUIクライアント(Github,gitkraken,...)    \n",
    "    めんどくさいコマンド操作を覚えなくても使える     \n",
    "    注)複雑な操作にコマンド必須\n",
    "+ [.gitignore の書き方-Qiita](https://qiita.com/inabe49/items/16ee3d9d1ce68daa9fff)   \n",
    "    Git の管理に含めないファイルを指定する\n",
    "+ [GitHub公式チートシート](https://services.github.com/on-demand/downloads/github-git-cheat-sheet.pdf)    \n",
    "    - [(翻訳)【GitHub公式】Gitコマンドチートシート-Qiita](https://qiita.com/okamu_/items/d52a6900311ad9073628)\n",
    "+ [サルでもわかるGit入門](https://backlog.com/ja/git-tutorial/)"
   ]
  },
  {
   "cell_type": "code",
   "execution_count": null,
   "metadata": {},
   "outputs": [],
   "source": []
  }
 ],
 "metadata": {
  "kernelspec": {
   "display_name": "Python 3",
   "language": "python",
   "name": "python3"
  },
  "language_info": {
   "codemirror_mode": {
    "name": "ipython",
    "version": 3
   },
   "file_extension": ".py",
   "mimetype": "text/x-python",
   "name": "python",
   "nbconvert_exporter": "python",
   "pygments_lexer": "ipython3",
   "version": "3.6.5"
  }
 },
 "nbformat": 4,
 "nbformat_minor": 2
}
