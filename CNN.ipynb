{
 "cells": [
  {
   "cell_type": "markdown",
   "metadata": {
    "colab_type": "text",
    "id": "KE1HF9TDLBTG"
   },
   "source": [
    "# CNN  (Mnist)"
   ]
  },
  {
   "cell_type": "markdown",
   "metadata": {},
   "source": [
    "Kerasを使うとレイヤーのように積み重なるだけで作れるが，tensorflowにも同じような機能があるので紹介   \n",
    "(tensorflowにKerasのレイヤーを取り込んで言ってるって聞いたことも...)"
   ]
  },
  {
   "cell_type": "markdown",
   "metadata": {
    "colab_type": "text",
    "id": "-I8B_D8ILBTI"
   },
   "source": [
    "必要なものをinport する"
   ]
  },
  {
   "cell_type": "code",
   "execution_count": null,
   "metadata": {
    "colab": {
     "autoexec": {
      "startup": false,
      "wait_interval": 0
     },
     "base_uri": "https://localhost:8080/",
     "height": 34
    },
    "colab_type": "code",
    "executionInfo": {
     "elapsed": 4052,
     "status": "ok",
     "timestamp": 1528779176910,
     "user": {
      "displayName": "水野充大",
      "photoUrl": "https://lh3.googleusercontent.com/a/default-user=s128",
      "userId": "101812954039934109144"
     },
     "user_tz": -540
    },
    "id": "y-6-NnugLBTP",
    "outputId": "bda2119e-5e70-4c1b-af01-67ada7655c59"
   },
   "outputs": [],
   "source": [
    "%matplotlib inline\n",
    "import numpy as np\n",
    "import tensorflow as tf\n",
    "import matplotlib.pyplot as plt\n",
    "from sklearn.utils import shuffle\n"
   ]
  },
  {
   "cell_type": "markdown",
   "metadata": {},
   "source": [
    "tensorflowにあるデータセットを読み込む"
   ]
  },
  {
   "cell_type": "code",
   "execution_count": null,
   "metadata": {},
   "outputs": [],
   "source": [
    "from tensorflow.examples.tutorials.mnist import input_data\n",
    "mnist = input_data.read_data_sets(\"./tmp/data/\", one_hot=True)"
   ]
  },
  {
   "cell_type": "markdown",
   "metadata": {},
   "source": [
    "学習データの削減+扱いやすく整形しデータ分離"
   ]
  },
  {
   "cell_type": "code",
   "execution_count": null,
   "metadata": {},
   "outputs": [],
   "source": [
    "x_train=mnist.train.images.reshape(55000,28, 28)[:2000] # データが1次元なのでわかりやすいように2次元にする\n",
    "y_train=mnist.train.labelｓ[:2000]\n",
    "x_test=mnist.test.images.reshape(10000,28, 28)\n",
    "y_test=mnist.test.labels"
   ]
  },
  {
   "cell_type": "markdown",
   "metadata": {
    "colab": {
     "autoexec": {
      "startup": false,
      "wait_interval": 0
     }
    },
    "colab_type": "code",
    "id": "22gDql4PLBTU"
   },
   "source": [
    "データの表示"
   ]
  },
  {
   "cell_type": "code",
   "execution_count": null,
   "metadata": {
    "colab": {
     "autoexec": {
      "startup": false,
      "wait_interval": 0
     },
     "base_uri": "https://localhost:8080/",
     "height": 118
    },
    "colab_type": "code",
    "executionInfo": {
     "elapsed": 692,
     "status": "ok",
     "timestamp": 1528779178921,
     "user": {
      "displayName": "水野充大",
      "photoUrl": "https://lh3.googleusercontent.com/a/default-user=s128",
      "userId": "101812954039934109144"
     },
     "user_tz": -540
    },
    "id": "gdUN5xyqLBTX",
    "outputId": "663ec012-86aa-40e2-fcc0-bd46f90d63fe"
   },
   "outputs": [],
   "source": [
    "img_horizontal = x_train[2:4]\n",
    "fig = plt.figure()\n",
    "ax1 = fig.add_subplot(121)\n",
    "ax2 = fig.add_subplot(122)\n",
    "\n",
    "ax1.imshow(img_horizontal[0])\n",
    "ax2.imshow(img_horizontal[1])\n",
    "\n",
    "plt.show()"
   ]
  },
  {
   "cell_type": "markdown",
   "metadata": {
    "colab_type": "text",
    "id": "_NjIeRGKLBTc"
   },
   "source": [
    "## CNNを作る"
   ]
  },
  {
   "cell_type": "markdown",
   "metadata": {
    "colab": {
     "autoexec": {
      "startup": false,
      "wait_interval": 0
     }
    },
    "colab_type": "code",
    "id": "BZxRqgEQLBTc"
   },
   "source": [
    "入力用placeholderを作る"
   ]
  },
  {
   "cell_type": "code",
   "execution_count": null,
   "metadata": {
    "colab": {
     "autoexec": {
      "startup": false,
      "wait_interval": 0
     }
    },
    "colab_type": "code",
    "id": "t7GRjqxaLBTg"
   },
   "outputs": [],
   "source": [
    "x_ = tf.placeholder(tf.float32, shape=[None, 28,28])\n",
    "t_ = tf.placeholder(tf.float32, shape=[None,10])"
   ]
  },
  {
   "cell_type": "markdown",
   "metadata": {},
   "source": [
    "一般的な画像のデータ構造の変形する   \n",
    "[バッチサイズ,x,y,チャンネル]"
   ]
  },
  {
   "cell_type": "code",
   "execution_count": null,
   "metadata": {
    "colab": {
     "autoexec": {
      "startup": false,
      "wait_interval": 0
     }
    },
    "colab_type": "code",
    "id": "jyuyrSgJLBTj"
   },
   "outputs": [],
   "source": [
    "input_layer = tf.reshape(x_, [-1, 28, 28, 1])"
   ]
  },
  {
   "cell_type": "markdown",
   "metadata": {},
   "source": [
    "1層目の畳込み(5×5の畳み込みフィルター×2枚)   \n",
    "in   : [batch_size, 28, 28, 1]   \n",
    "out  : [batch_size, 28, 28, 2]"
   ]
  },
  {
   "cell_type": "code",
   "execution_count": null,
   "metadata": {},
   "outputs": [],
   "source": [
    "conv1 = tf.layers.conv2d(\n",
    "      inputs=input_layer,\n",
    "      filters=2,\n",
    "      kernel_size=[5, 5],\n",
    "      padding=\"same\",\n",
    "      activation=tf.nn.relu)"
   ]
  },
  {
   "cell_type": "markdown",
   "metadata": {},
   "source": [
    "2層目のmaxプーリング(サイズ２×２が２枚)   \n",
    "in:[batch_size, 28, 28, 2]  \n",
    "out: [batch_size, 14, 14, 2]  "
   ]
  },
  {
   "cell_type": "code",
   "execution_count": null,
   "metadata": {},
   "outputs": [],
   "source": [
    "pool1 = tf.layers.max_pooling2d(inputs=conv1, pool_size=[2, 2], strides=2)"
   ]
  },
  {
   "cell_type": "markdown",
   "metadata": {},
   "source": [
    "3層目の畳込み(5×5の畳み込みフィルター×2枚)   \n",
    "in   : [batch_size, 14, 14, 2]   \n",
    "out  : [batch_size, 14, 14, 2]"
   ]
  },
  {
   "cell_type": "code",
   "execution_count": null,
   "metadata": {},
   "outputs": [],
   "source": [
    "conv2 = tf.layers.conv2d(\n",
    "      inputs=pool1,\n",
    "      filters=2,\n",
    "      kernel_size=[5, 5],\n",
    "      padding=\"same\",\n",
    "      activation=tf.nn.relu)"
   ]
  },
  {
   "cell_type": "markdown",
   "metadata": {},
   "source": [
    "4層目のmaxプーリング(サイズ２×２が２枚)   \n",
    "in:[batch_size, 14, 14, 2]  \n",
    "out: [batch_size, 7, 7, 2]  "
   ]
  },
  {
   "cell_type": "code",
   "execution_count": null,
   "metadata": {},
   "outputs": [],
   "source": [
    "pool2 = tf.layers.max_pooling2d(inputs=conv2, pool_size=[2, 2], strides=2)"
   ]
  },
  {
   "cell_type": "markdown",
   "metadata": {},
   "source": [
    "１次元テンソルに変換   \n",
    "in: [batch_size, 7, 7, 2]   \n",
    "out:[batch_size, 7 * 7 * 2]"
   ]
  },
  {
   "cell_type": "code",
   "execution_count": null,
   "metadata": {},
   "outputs": [],
   "source": [
    "pool2_flat = tf.reshape(pool2, [-1, 7 * 7 * 2])"
   ]
  },
  {
   "cell_type": "markdown",
   "metadata": {},
   "source": [
    "全結合   \n",
    "in : [batch_size, 7 * 7 * 2]   \n",
    "out:[batch_size, 6]  "
   ]
  },
  {
   "cell_type": "code",
   "execution_count": null,
   "metadata": {},
   "outputs": [],
   "source": [
    "dense = tf.layers.dense(inputs=pool2_flat, units=6, activation=tf.nn.relu)"
   ]
  },
  {
   "cell_type": "markdown",
   "metadata": {},
   "source": [
    "ドロップアウトと活性化"
   ]
  },
  {
   "cell_type": "code",
   "execution_count": null,
   "metadata": {
    "colab": {
     "autoexec": {
      "startup": false,
      "wait_interval": 0
     }
    },
    "colab_type": "code",
    "id": "ATNU-wPZLBTm"
   },
   "outputs": [],
   "source": [
    "dropout = tf.layers.dropout(inputs=dense, rate=0.5)\n",
    "logits = tf.layers.dense(inputs=dropout, units=10)"
   ]
  },
  {
   "cell_type": "markdown",
   "metadata": {},
   "source": [
    "損失関はクロスエントロピーを使う"
   ]
  },
  {
   "cell_type": "code",
   "execution_count": null,
   "metadata": {
    "colab": {
     "autoexec": {
      "startup": false,
      "wait_interval": 0
     },
     "base_uri": "https://localhost:8080/",
     "height": 153
    },
    "colab_type": "code",
    "executionInfo": {
     "elapsed": 764,
     "status": "ok",
     "timestamp": 1528779190228,
     "user": {
      "displayName": "水野充大",
      "photoUrl": "https://lh3.googleusercontent.com/a/default-user=s128",
      "userId": "101812954039934109144"
     },
     "user_tz": -540
    },
    "id": "AOzoV0plLBUI",
    "outputId": "81a60e2c-4c61-4941-c553-032ea0513bfc"
   },
   "outputs": [],
   "source": [
    "cross_entropy = tf.reduce_mean(tf.nn.softmax_cross_entropy_with_logits(labels=t_, logits=logits))"
   ]
  },
  {
   "cell_type": "markdown",
   "metadata": {},
   "source": [
    "各種オペレーション"
   ]
  },
  {
   "cell_type": "code",
   "execution_count": null,
   "metadata": {
    "colab": {
     "autoexec": {
      "startup": false,
      "wait_interval": 0
     }
    },
    "colab_type": "code",
    "id": "ugRrKg0ALBUL"
   },
   "outputs": [],
   "source": [
    "train_step = tf.train.AdamOptimizer().minimize(cross_entropy)\n",
    "correct_prediction = tf.equal(tf.argmax(logits, 1), tf.argmax(t_, 1))\n",
    "accuracy= tf.reduce_mean(tf.cast(correct_prediction, tf.float32))"
   ]
  },
  {
   "cell_type": "markdown",
   "metadata": {},
   "source": [
    "学習   \n",
    "バッチサイズ:20  \n",
    "イテレーション: 20  \n",
    "\n",
    "``tf.InteractiveSession()``を使うと``hoge.run()``とか``hoge.eval()``で演算ができる"
   ]
  },
  {
   "cell_type": "code",
   "execution_count": null,
   "metadata": {
    "colab": {
     "autoexec": {
      "startup": false,
      "wait_interval": 0
     },
     "base_uri": "https://localhost:8080/",
     "height": 1431
    },
    "colab_type": "code",
    "executionInfo": {
     "elapsed": 107576,
     "status": "ok",
     "timestamp": 1528779747318,
     "user": {
      "displayName": "水野充大",
      "photoUrl": "https://lh3.googleusercontent.com/a/default-user=s128",
      "userId": "101812954039934109144"
     },
     "user_tz": -540
    },
    "id": "zdM1XQ9qLBUN",
    "outputId": "74af8920-0695-43fd-8110-d339fdc644b6"
   },
   "outputs": [],
   "source": [
    "\n",
    "batch_size = 20\n",
    "iteration = 20\n",
    "sess = tf.InteractiveSession()\n",
    "\n",
    "sess.run(tf.initialize_all_variables())\n",
    "batch_n =  len(x_train) // batch_size\n",
    "for i in range(iteration):\n",
    "\n",
    "    x_train, y_train =shuffle(x_train, y_train)\n",
    "    for j in range(batch_n-2):\n",
    "        start = j * batch_size\n",
    "        end = start + batch_size\n",
    "        label = y_train[start:end]\n",
    "        train_step.run( feed_dict={x_:x_train[start:end].astype(np.float32),t_:label.astype(np.float32)})\n",
    "    start = (batch_n-1) * batch_size\n",
    "    end = start + batch_size\n",
    "    label = y_train[start:end]\n",
    "    print(\"iteration: \",i)\n",
    "    print(\"train_loss: \",cross_entropy.eval( feed_dict={x_:x_train[start:end].astype(np.float32),t_:label.astype(np.float32)}))\n",
    "    print(\"train_acc:  \",accuracy.eval( feed_dict={x_:x_train[start:end].astype(np.float32),t_:label.astype(np.float32)}))\n",
    "    print(\"test_loss:  \",cross_entropy.eval( feed_dict={x_:x_test.astype(np.float32),t_:y_test.astype(np.float32)}))\n",
    "    print(\"test_acc:  \",accuracy.eval( feed_dict={x_:x_test.astype(np.float32),t_:y_test.astype(np.float32)}))\n",
    "    print(\"----------------\")\n",
    "\n",
    "    "
   ]
  },
  {
   "cell_type": "code",
   "execution_count": null,
   "metadata": {
    "colab": {
     "autoexec": {
      "startup": false,
      "wait_interval": 0
     }
    },
    "colab_type": "code",
    "id": "6TR_nm-mLBUW"
   },
   "outputs": [],
   "source": []
  }
 ],
 "metadata": {
  "accelerator": "GPU",
  "colab": {
   "default_view": {},
   "name": "Mnist.ipynb",
   "provenance": [],
   "version": "0.3.2",
   "views": {}
  },
  "kernelspec": {
   "display_name": "Python 3",
   "language": "python",
   "name": "python3"
  },
  "language_info": {
   "codemirror_mode": {
    "name": "ipython",
    "version": 3
   },
   "file_extension": ".py",
   "mimetype": "text/x-python",
   "name": "python",
   "nbconvert_exporter": "python",
   "pygments_lexer": "ipython3",
   "version": "3.6.0"
  }
 },
 "nbformat": 4,
 "nbformat_minor": 2
}
