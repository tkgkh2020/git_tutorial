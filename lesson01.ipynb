{
 "cells": [
  {
   "cell_type": "markdown",
   "metadata": {},
   "source": [
    "#  Tensorflow + Git Hands on\n"
   ]
  },
  {
   "cell_type": "markdown",
   "metadata": {},
   "source": [
    "# 　まずはGitから"
   ]
  },
  {
   "cell_type": "markdown",
   "metadata": {},
   "source": [
    "+ macな人  \n",
    " ```$ brew install git  ```\n",
    "+ winな人  \n",
    "    Cygwin等でGitをインストール(もしかしたら入ってるかも)   \n",
    "      or Windows Subsystem for Linux(WSL)でGitインストール\n",
    "      or  GUIがないと不安な人 へ\n",
    "+ GUIがないと不安な人  \n",
    "    [GitHub公式GUIクライアント(https://desktop.github.com/)](https://desktop.github.com/)    \n",
    "    (windowsはコマンドプロンプトでGitコマンドが使えるようになる)\n",
    "  \n",
    " "
   ]
  },
  {
   "cell_type": "markdown",
   "metadata": {},
   "source": [
    "# GitHubの登録\n",
    "## [GitHub(https://github.com/)](https://github.com/)から登録を！\n",
    " 管理権限ありそうな人にユーザー名or登録アドレスを伝えると研究室アカウントに招待します．"
   ]
  },
  {
   "cell_type": "markdown",
   "metadata": {},
   "source": [
    "# Gitのメリット(バージョン管理)\n",
    "![](img/git.svg)\n",
    "\n",
    "複雑に枝分かれしながら，バージョン管理をすることが可能(Git flow)"
   ]
  },
  {
   "cell_type": "markdown",
   "metadata": {},
   "source": [
    "# Gitのメリット(分散)\n",
    "![](img/git2.jpg)\n",
    "複数の場所で保存するので障害に強い"
   ]
  },
  {
   "cell_type": "markdown",
   "metadata": {},
   "source": [
    "# tutorial資料の入手   \n",
    "https://github.com/okadome-LAB/tensorflow-git-tutorial  \n",
    "GitHub上でtutorial資料を公開しているので，必要に応じて入手してください.   \n",
    "(チュートリアル前後だけpublicにしてます)\n",
    "\n",
    "```$ git clone https://github.com/okadome-LAB/tensorflow-git-tutorial```"
   ]
  },
  {
   "cell_type": "markdown",
   "metadata": {},
   "source": [
    "---\n",
    "「git clone」とは文字通りGitサーバー上のリポジトリからローカルにリポジトリを複製してくること  \n",
    "(場合によってproxyの設定が必要かも([プロキシ環境でのgithubの接続](https://qiita.com/ryouzi/items/5ba097d3d813ef6535fa)))"
   ]
  },
  {
   "cell_type": "markdown",
   "metadata": {},
   "source": [
    "# gitの初期設定\n",
    "ローカルリポジトリのユーザ情報を設定します.   \n",
    "+ コミットトランザクションに付ける名前を設定します。   \n",
    "    ``$ git config　--global user.name \"[name]\"``   \n",
    "\n",
    "+ コミットトランザクションに添付したい電子メールを設定します。   \n",
    "    ``$ git config --global user.email \"[email address]\"``    \n",
    "\n",
    "+ コマンドライン出力の時にいい感じで色付けします。  \n",
    "    ``$ git config --global color.ui auto``   \n",
    "\n"
   ]
  },
  {
   "cell_type": "markdown",
   "metadata": {},
   "source": [
    "# ローカルリポジトリを作る\n",
    "+ まず， リポジトリにするフォルダを作り移動する   \n",
    "    ``$ mkdir mizuno-git-tutorial``   \n",
    "    ``$ cd mizuno-git-tutorial``   \n",
    "+  リポジトリを初期化する   \n",
    "    ``$ git init  ``   \n",
    "+ リポジトリの更新歴を取得する   \n",
    "    ``$ git log``   \n",
    "     (tigコマンド(別途インストール)を使うと履歴が見やすくておすすめ)"
   ]
  },
  {
   "cell_type": "markdown",
   "metadata": {},
   "source": [
    "## コミット\n",
    "+ 試しに， この資料をリポジトリに追加   \n",
    "    （ステージに上げる，スナップショットする）  \n",
    "    ``$ cp ../lesson01.ipynb .``   \n",
    "    ``$ git add lesson01.ipynb``   \n",
    "+ リポジトリに反映する（コミット）   \n",
    "    ``$ git commit -m \"lesson01.ipynbを追加\"``\n",
    "\n",
    "\n",
    "``$ git log``でリポジトリの状態を確認を"
   ]
  },
  {
   "cell_type": "markdown",
   "metadata": {},
   "source": [
    "## ここまでのまとめ  ( 最低限のgitコマンド)\n",
    "+ ``$ git clone \"[URL]\"`` :  \n",
    "    ``[URL]``からコピーしてくる\n",
    "+ ``$ git init`` :   \n",
    "    リポジトリを初期化（空のリポジトリを作る）\n",
    "+ ``$ git log`` :    \n",
    "    リポジトリの状態を確認\n",
    "+ ``$ git add \"[ファイル名]\"``:   \n",
    "    リポジトリに``[ファイル名]``を追加 , すべてのファイルを追加するには``$ git add *``\n",
    "+ ``$ git commit -m \"[コミットメッセージ]\"``: 　　　  \n",
    "    ``[コミットメッセージ]``とともに現在の状態を保存"
   ]
  },
  {
   "cell_type": "markdown",
   "metadata": {},
   "source": [
    "# GitHubで管理する\n",
    "## まず，GitHub上にリポジトリを作る\n",
    " [GitHubトップページ](https://github.com/)から\n",
    "    ![](img/github_newrepo.png)"
   ]
  },
  {
   "cell_type": "markdown",
   "metadata": {},
   "source": [
    "必要事項を入力してリモートリポジトリを作る    \n",
    "    ![](img/github_newrepo2.png)"
   ]
  },
  {
   "cell_type": "markdown",
   "metadata": {},
   "source": [
    "## ローカルリポジトリと連携\n",
    "色々コマンドが表示された，\n",
    "![](img/github_cmd.png)"
   ]
  },
  {
   "cell_type": "markdown",
   "metadata": {},
   "source": [
    "![](img/github_cmd2.png)\n",
    "残りの２つを実行し，GitHubを確認   \n",
    "[プロキシ環境でのgithubの接続](https://qiita.com/ryouzi/items/5ba097d3d813ef6535fa)"
   ]
  },
  {
   "cell_type": "markdown",
   "metadata": {},
   "source": [
    " ## 何をしたのか？\n",
    " + ``$ git remote add origin [URL]``    \n",
    "     リポジトリのリモートリポジトリ(origin)として``[URL]``を追加\n",
    " + ``git push -u origin master``    \n",
    "     リモートリポジトリ(origin)のmasterブランチに反映(pushする)\n",
    "     \n",
    " ----\n",
    " 補足\n",
    " ブランチ : Git上での枝分かれのこと"
   ]
  },
  {
   "cell_type": "markdown",
   "metadata": {},
   "source": [
    "# ブランチを切ってみる\n",
    "lesson02に続く"
   ]
  }
 ],
 "metadata": {
  "kernelspec": {
   "display_name": "Python 3",
   "language": "python",
   "name": "python3"
  },
  "language_info": {
   "codemirror_mode": {
    "name": "ipython",
    "version": 3
   },
   "file_extension": ".py",
   "mimetype": "text/x-python",
   "name": "python",
   "nbconvert_exporter": "python",
   "pygments_lexer": "ipython3",
   "version": "3.6.0"
  }
 },
 "nbformat": 4,
 "nbformat_minor": 2
}
